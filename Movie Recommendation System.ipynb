{
 "cells": [
  {
   "cell_type": "markdown",
   "metadata": {
    "colab_type": "text",
    "id": "7vhMY6x-yxc7"
   },
   "source": [
    "## IDS 561 PROJECT CODE\n",
    "# MOVIE RECOMMENDATION SYSTEM\n",
    "\n",
    "*   Nimisha Asati \n",
    "------------------------------------------------------------------------------------------------------------------------------------------------------------------------\n",
    "\n"
   ]
  },
  {
   "cell_type": "code",
   "execution_count": 0,
   "metadata": {
    "colab": {},
    "colab_type": "code",
    "id": "BBrA1wYKCahj"
   },
   "outputs": [],
   "source": [
    "!apt-get install openjdk-8-jdk-headless -qq > /dev/null\n",
    "!wget -q http://www-eu.apache.org/dist/spark/spark-2.3.3/spark-2.3.3-bin-hadoop2.7.tgz\n",
    "!tar xf spark-2.3.3-bin-hadoop2.7.tgz\n",
    "!pip install -q findspark"
   ]
  },
  {
   "cell_type": "code",
   "execution_count": 0,
   "metadata": {
    "colab": {},
    "colab_type": "code",
    "id": "LQX8DbmRCbTs"
   },
   "outputs": [],
   "source": [
    "import os\n",
    "os.environ[\"JAVA_HOME\"] = \"/usr/lib/jvm/java-8-openjdk-amd64\"\n",
    "os.environ[\"SPARK_HOME\"] = \"/content/spark-2.3.3-bin-hadoop2.7\""
   ]
  },
  {
   "cell_type": "code",
   "execution_count": 0,
   "metadata": {
    "colab": {},
    "colab_type": "code",
    "id": "ubuyzce-CeIq"
   },
   "outputs": [],
   "source": [
    "import findspark\n",
    "findspark.init()\n",
    "from pyspark.sql import SparkSession\n",
    "\n",
    "spark = SparkSession.builder.master(\"local[*]\").getOrCreate()"
   ]
  },
  {
   "cell_type": "code",
   "execution_count": 0,
   "metadata": {
    "colab": {},
    "colab_type": "code",
    "id": "cv3yscs9Cf1N"
   },
   "outputs": [],
   "source": [
    "from pyspark import SparkConf\n",
    "from pyspark import SparkContext\n",
    "from pyspark import HiveContext\n",
    "sc = SparkContext.getOrCreate(SparkConf().setMaster(\"local[*]\"))"
   ]
  },
  {
   "cell_type": "code",
   "execution_count": 0,
   "metadata": {
    "colab": {},
    "colab_type": "code",
    "id": "CgPkjiSYFPAS"
   },
   "outputs": [],
   "source": [
    "from pyspark.mllib.recommendation import ALS\n",
    "import math\n",
    "import pandas as pd\n",
    "from time import time\n",
    "from pyspark.mllib.recommendation import MatrixFactorizationModel"
   ]
  },
  {
   "cell_type": "markdown",
   "metadata": {
    "colab_type": "text",
    "id": "xL0ZnbZizJwU"
   },
   "source": [
    "### Loading small movies and ratings dataset to learn the ALS (Alternating Least Squares) parameters"
   ]
  },
  {
   "cell_type": "code",
   "execution_count": 0,
   "metadata": {
    "colab": {},
    "colab_type": "code",
    "id": "Jpj1ZZajFDPo"
   },
   "outputs": [],
   "source": [
    "# Remove header in each file\n",
    "ratings_raw_data_s = sc.textFile('./ratings_small.csv')\n",
    "ratings_raw_data_s_h = ratings_raw_data_s.take(1)[0]                    "
   ]
  },
  {
   "cell_type": "code",
   "execution_count": 0,
   "metadata": {
    "colab": {},
    "colab_type": "code",
    "id": "BZaSM3TMGHxL"
   },
   "outputs": [],
   "source": [
    "ratings_data_s = ratings_raw_data_s.filter(lambda line: line!=ratings_raw_data_s_h)\\\n",
    "    .map(lambda line: line.split(\",\")).map(lambda tokens: (tokens[0],tokens[1],tokens[2])).cache()"
   ]
  },
  {
   "cell_type": "code",
   "execution_count": 0,
   "metadata": {
    "colab": {
     "base_uri": "https://localhost:8080/",
     "height": 35
    },
    "colab_type": "code",
    "id": "sMh2NyDDGIpG",
    "outputId": "25062fc2-ea25-4ab2-9d79-d93ffcd1fb5e"
   },
   "outputs": [
    {
     "data": {
      "text/plain": [
       "[('1', '1', '4.0'), ('1', '3', '4.0'), ('1', '6', '4.0')]"
      ]
     },
     "execution_count": 7,
     "metadata": {
      "tags": []
     },
     "output_type": "execute_result"
    }
   ],
   "source": [
    "# First few lines of Ratings RDD\n",
    "ratings_data_s.take(5)"
   ]
  },
  {
   "cell_type": "code",
   "execution_count": 0,
   "metadata": {
    "colab": {},
    "colab_type": "code",
    "id": "O7v6sf8_HoGr"
   },
   "outputs": [],
   "source": [
    "movies_raw_data_s = sc.textFile('movies.csv')\n",
    "ratings_raw_data_s_h = movies_raw_data_s.take(1)[0]"
   ]
  },
  {
   "cell_type": "code",
   "execution_count": 0,
   "metadata": {
    "colab": {
     "base_uri": "https://localhost:8080/",
     "height": 69
    },
    "colab_type": "code",
    "id": "BZgnlQ0XHpsh",
    "outputId": "d50d88d3-8535-4705-b17f-b46f424671e1"
   },
   "outputs": [
    {
     "data": {
      "text/plain": [
       "[('1', 'Toy Story (1995)'),\n",
       " ('2', 'Jumanji (1995)'),\n",
       " ('3', 'Grumpier Old Men (1995)')]"
      ]
     },
     "execution_count": 9,
     "metadata": {
      "tags": []
     },
     "output_type": "execute_result"
    }
   ],
   "source": [
    "# Filter out header from movies data and view first few lines of Movies RDD\n",
    "small_movies_data = movies_raw_data_s.filter(lambda line: line!=ratings_raw_data_s_h)\\\n",
    "    .map(lambda line: line.split(\",\")).map(lambda tokens: (tokens[0],tokens[1])).cache()\n",
    "    \n",
    "small_movies_data.take(3)"
   ]
  },
  {
   "cell_type": "code",
   "execution_count": 0,
   "metadata": {
    "colab": {},
    "colab_type": "code",
    "id": "SM0cJ8JjHuCz"
   },
   "outputs": [],
   "source": [
    "# Split ratings data into Training, Validation and Testing RDDs (65%-20%-15%)\n",
    "train_s, validate_s, test_s = ratings_data_s.randomSplit([6.5, 2, 1.5], seed=123)\n",
    "validate_predict_s = validate_s.map(lambda x: (x[0], x[1]))\n",
    "test_predict_s = test_s.map(lambda x: (x[0], x[1]))"
   ]
  },
  {
   "cell_type": "markdown",
   "metadata": {
    "colab_type": "text",
    "id": "S8A0OLrkzhtG"
   },
   "source": [
    "### Train the model to determine the ALS parameters - collaborative filtering technique"
   ]
  },
  {
   "cell_type": "code",
   "execution_count": 0,
   "metadata": {
    "colab": {
     "base_uri": "https://localhost:8080/",
     "height": 87
    },
    "colab_type": "code",
    "id": "SqQqC91uHw_G",
    "outputId": "0e6c29e4-47a6-402e-e656-ec4580da98c3"
   },
   "outputs": [
    {
     "name": "stdout",
     "output_type": "stream",
     "text": [
      "For rank 4 the RMSE is 0.9086635340748691\n",
      "For rank 8 the RMSE is 0.9072065372411254\n",
      "For rank 12 the RMSE is 0.9042878440506998\n",
      "The best model was trained with rank 12\n"
     ]
    }
   ],
   "source": [
    "seed = 123\n",
    "iterations = 15\n",
    "regularization = 0.025\n",
    "ranks = [4, 6, 8]\n",
    "errors = [0, 0, 0]\n",
    "err = 0\n",
    "tolerance = 0.01\n",
    "\n",
    "\n",
    "min_error = float('inf')\n",
    "best_rank = -1\n",
    "best_iteration = -1\n",
    "for rank in ranks:\n",
    "    model_small = ALS.train(train_s, rank, seed=seed, iterations=iterations,\n",
    "                      lambda_=regularization)\n",
    "    predictions = model_small.predictAll(validate_predict_s).map(lambda r: ((r[0], r[1]), r[2]))\n",
    "    rates = validate_s.map(lambda r: ((int(r[0]), int(r[1])), float(r[2]))).join(predictions)\n",
    "    error = math.sqrt(rates.map(lambda r: (r[1][0] - r[1][1])**2).mean())\n",
    "    errors[err] = error\n",
    "    err += 1\n",
    "    print('For rank %s the RMSE is %s' % (rank, error))\n",
    "    if error < min_error:\n",
    "        min_error = error\n",
    "        best_rank = rank\n",
    "\n",
    "print('The best model was trained with rank %s' % best_rank)"
   ]
  },
  {
   "cell_type": "code",
   "execution_count": 0,
   "metadata": {
    "colab": {
     "base_uri": "https://localhost:8080/",
     "height": 69
    },
    "colab_type": "code",
    "id": "mwrd2K2tHyFC",
    "outputId": "ce100c9d-064b-4fea-8d75-666864ac08d8"
   },
   "outputs": [
    {
     "data": {
      "text/plain": [
       "[((474, 1084), 3.9205706402476435),\n",
       " ((74, 1084), 4.191654659558981),\n",
       " ((294, 1084), 2.9152407085144922)]"
      ]
     },
     "execution_count": 13,
     "metadata": {
      "tags": []
     },
     "output_type": "execute_result"
    }
   ],
   "source": [
    "# We have the UserID, the MovieID, and the Rating, as we have in our ratings dataset. \n",
    "# In this case: 3rd element is predictions \n",
    "\n",
    "predictions.take(3)"
   ]
  },
  {
   "cell_type": "code",
   "execution_count": 0,
   "metadata": {
    "colab": {
     "base_uri": "https://localhost:8080/",
     "height": 69
    },
    "colab_type": "code",
    "id": "16d8uiI-Hz3L",
    "outputId": "1f84f7b9-842b-418c-ade7-2e961a495e4e"
   },
   "outputs": [
    {
     "data": {
      "text/plain": [
       "[((1, 349), (4.0, 3.5931104079098533)),\n",
       " ((1, 441), (4.0, 4.577913131186497)),\n",
       " ((1, 553), (5.0, 4.446245131026217))]"
      ]
     },
     "execution_count": 18,
     "metadata": {
      "tags": []
     },
     "output_type": "execute_result"
    }
   ],
   "source": [
    "# join these with our validation data (the one that includes ratings) \n",
    "rates.take(3)"
   ]
  },
  {
   "cell_type": "markdown",
   "metadata": {
    "colab_type": "text",
    "id": "vktvNTVw0Eb2"
   },
   "source": [
    "###  Applied a squared difference and the we use the mean() action to get the MSE and apply sqrt"
   ]
  },
  {
   "cell_type": "code",
   "execution_count": 0,
   "metadata": {
    "colab": {
     "base_uri": "https://localhost:8080/",
     "height": 35
    },
    "colab_type": "code",
    "id": "NL3RKYa9H4R4",
    "outputId": "f37397ed-d382-436e-eb9e-0d7603b8a308"
   },
   "outputs": [
    {
     "name": "stdout",
     "output_type": "stream",
     "text": [
      "For testing data the RMSE is 0.9125507816616728\n"
     ]
    }
   ],
   "source": [
    "# test the selected model\n",
    "model_1 = ALS.train(training_RDD, best_rank, seed=seed, iterations=iterations,\n",
    "                      lambda_=regularization_parameter)\n",
    "predictions = model_1.predictAll(test_for_predict_RDD).map(lambda r: ((r[0], r[1]), r[2]))\n",
    "rates1 = test_RDD.map(lambda r: ((int(r[0]), int(r[1])), float(r[2]))).join(predictions)\n",
    "error = math.sqrt(rates1.map(lambda r: (r[1][0] - r[1][1])**2).mean())\n",
    "    \n",
    "print('For testing data the RMSE is %s' % (error))"
   ]
  },
  {
   "cell_type": "markdown",
   "metadata": {
    "colab_type": "text",
    "id": "UidVan_70N1y"
   },
   "source": [
    "## Now to build our recommender model, we will use the complete dataset"
   ]
  },
  {
   "cell_type": "code",
   "execution_count": 0,
   "metadata": {
    "colab": {
     "base_uri": "https://localhost:8080/",
     "height": 35
    },
    "colab_type": "code",
    "id": "YDO1U0t4H47w",
    "outputId": "738ba038-3609-4932-ba91-e189b1e0ccf3"
   },
   "outputs": [
    {
     "name": "stdout",
     "output_type": "stream",
     "text": [
      "There are 2904670 recommendations in the complete dataset\n"
     ]
    }
   ],
   "source": [
    "# Load the complete dataset file\n",
    "ratings_raw_full = sc.textFile('ratings.csv')\n",
    "ratings_raw_full_header = ratings_raw_full.take(1)[0]\n",
    "\n",
    "# Parse and process\n",
    "ratings_full = ratings_raw_full.filter(lambda line: line!=ratings_raw_full_header)\\\n",
    "    .map(lambda line: line.split(\",\")).map(lambda tokens: (int(tokens[0]),int(tokens[1]),float(tokens[2]))).cache()\n",
    "    \n",
    "print(\"There are %s recommendations in the complete dataset\" % (ratings_full.count()))"
   ]
  },
  {
   "cell_type": "markdown",
   "metadata": {
    "colab_type": "text",
    "id": "CgT1Zkvg0Xfj"
   },
   "source": [
    "### Train the recommender model"
   ]
  },
  {
   "cell_type": "code",
   "execution_count": 0,
   "metadata": {
    "colab": {},
    "colab_type": "code",
    "id": "tOgCPHaBH7xf"
   },
   "outputs": [],
   "source": [
    "train_full, test_full = ratings_full.randomSplit([7, 3], seed=1)\n",
    "\n",
    "model_full = ALS.train(train_full, best_rank, seed=seed, \n",
    "                           iterations=iterations, lambda_=regularization_parameter)"
   ]
  },
  {
   "cell_type": "code",
   "execution_count": 0,
   "metadata": {
    "colab": {
     "base_uri": "https://localhost:8080/",
     "height": 35
    },
    "colab_type": "code",
    "id": "WDcfyUKDISl_",
    "outputId": "3c6251cb-4800-45fa-f926-da59cd83cd1b"
   },
   "outputs": [
    {
     "name": "stdout",
     "output_type": "stream",
     "text": [
      "For testing data the RMSE is 0.841243074184287\n"
     ]
    }
   ],
   "source": [
    "# Test the recommender model\n",
    "test_for_predict_RDD = test_full.map(lambda x: (x[0], x[1]))\n",
    "\n",
    "predictions = model_full.predictAll(test_for_predict_RDD).map(lambda r: ((r[0], r[1]), r[2]))\n",
    "rates2 = test_full.map(lambda r: ((int(r[0]), int(r[1])), float(r[2]))).join(predictions)\n",
    "error = math.sqrt(rates2.map(lambda r: (r[1][0] - r[1][1])**2).mean())\n",
    "    \n",
    "print ('For testing data the RMSE is %s' % (error))"
   ]
  },
  {
   "cell_type": "code",
   "execution_count": 0,
   "metadata": {
    "colab": {
     "base_uri": "https://localhost:8080/",
     "height": 35
    },
    "colab_type": "code",
    "id": "6t1YdeLDIj7F",
    "outputId": "201cd833-e3cc-4043-deaf-681834abed2b"
   },
   "outputs": [
    {
     "name": "stdout",
     "output_type": "stream",
     "text": [
      "There are 58098 movies in the complete dataset\n"
     ]
    }
   ],
   "source": [
    "#load the movies complete file for later use\n",
    "movies_full = sc.textFile('movies.csv')\n",
    "\n",
    "movies_full_header = movies_full.take(1)[0]\n",
    "\n",
    "# Parse\n",
    "movies_data = movies_full.filter(lambda line: line!=movies_full_header)\\\n",
    "    .map(lambda line: line.split(\",\")).map(lambda tokens: (int(tokens[0]),tokens[1],tokens[2])).cache()\n",
    "\n",
    "movies_full_title = movies_data.map(lambda x: (int(x[0]),x[1]))\n",
    "    \n",
    "print (\"There are %s movies in the complete dataset\" % (movies_full_title.count()))\n"
   ]
  },
  {
   "cell_type": "markdown",
   "metadata": {
    "colab_type": "text",
    "id": "C7MYR25D0qAo"
   },
   "source": [
    "### Give recommendations of movies with a certain minimum number of ratings"
   ]
  },
  {
   "cell_type": "code",
   "execution_count": 0,
   "metadata": {
    "colab": {},
    "colab_type": "code",
    "id": "3hYM268cI8NK"
   },
   "outputs": [],
   "source": [
    "# count the number of ratings per movie\n",
    "def get_counts_avg(ID_and_ratings_tuple):\n",
    "    nratings = len(ID_and_ratings_tuple[1])\n",
    "    return ID_and_ratings_tuple[0], (nratings, float(sum(x for x in ID_and_ratings_tuple[1]))/nratings)\n",
    "\n",
    "movie_ID_ratings = (ratings_full.map(lambda x: (x[1], x[2])).groupByKey())\n",
    "movie_ID_with_avg_ratings_RDD = movie_ID_ratings.map(get_counts_avg)\n",
    "movie_rating_counts_RDD = movie_ID_with_avg_ratings_RDD.map(lambda x: (x[0], x[1][0]))"
   ]
  },
  {
   "cell_type": "markdown",
   "metadata": {
    "colab_type": "text",
    "id": "e1vO5AB_0z92"
   },
   "source": [
    "### Adding new user ratings to recommend top 25 movies for the new user"
   ]
  },
  {
   "cell_type": "code",
   "execution_count": 0,
   "metadata": {
    "colab": {
     "base_uri": "https://localhost:8080/",
     "height": 55
    },
    "colab_type": "code",
    "id": "6bNxDbxHMfte",
    "outputId": "e33d3989-70a7-4cb0-d54f-7c4fb0ad0b7d"
   },
   "outputs": [
    {
     "name": "stdout",
     "output_type": "stream",
     "text": [
      "New user ratings: [(0, 260, 9), (0, 1, 8), (0, 16, 7), (0, 25, 8), (0, 32, 9), (0, 335, 4), (0, 379, 3), (0, 296, 7), (0, 858, 10), (0, 50, 8)]\n"
     ]
    }
   ],
   "source": [
    "# adding random new user ID\n",
    "new_user_ID = 0\n",
    "\n",
    "# The format of each line is (userID, movieID, rating)\n",
    "new_user_ratings = [\n",
    "     (0,260,9), # Star Wars (1977)\n",
    "     (0,1,8), # Toy Story (1995)\n",
    "     (0,27,6), # Now and Then (1995)\n",
    "     (0,25,8), # Leaving Las Vegas (1995)\n",
    "     (0,32,8), # Twelve Monkeys (a.k.a. 12 Monkeys) (1995)\n",
    "     (0,362,4), # Jungle Book, The (1994)\n",
    "     (0,379,5), # Timecop (1994)\n",
    "     (0,419,9), # Beverly Hillbillies, The (1993)\n",
    "     (0,853,10) , # Dingo (1972)\n",
    "     (0,50,7) # Usual Suspects, The (1995)\n",
    "    ]\n",
    "new_user_ratings_RDD = sc.parallelize(new_user_ratings)\n",
    "\n",
    "print ('New user ratings: %s' % new_user_ratings_RDD.take(10))"
   ]
  },
  {
   "cell_type": "code",
   "execution_count": 0,
   "metadata": {
    "colab": {},
    "colab_type": "code",
    "id": "-kTxG9QbMj83"
   },
   "outputs": [],
   "source": [
    "# we add new user rating to the data we will use to train our recommender model\n",
    "data_with_new_ratings = complete_ratings_data.union(new_user_ratings_RDD)"
   ]
  },
  {
   "cell_type": "code",
   "execution_count": 0,
   "metadata": {
    "colab": {
     "base_uri": "https://localhost:8080/",
     "height": 35
    },
    "colab_type": "code",
    "id": "aXpiLjNFMs6_",
    "outputId": "cab87b3e-26ce-4a46-dcb5-0910e8cda5a3"
   },
   "outputs": [
    {
     "name": "stdout",
     "output_type": "stream",
     "text": [
      "New model trained in 27.352 seconds\n"
     ]
    }
   ],
   "source": [
    "# train the ALS model using all the parameters we used for training small dataset\n",
    "t0 = time()\n",
    "new_ratings_model = ALS.train(data_with_new_ratings, best_rank, seed=seed, \n",
    "                              iterations=iterations, lambda_=regularization_parameter)\n",
    "tt = time() - t0\n",
    "\n",
    "print (\"New model trained in %s seconds\" % round(tt,3))"
   ]
  },
  {
   "cell_type": "markdown",
   "metadata": {
    "colab_type": "text",
    "id": "67F6Zmfj3nBJ"
   },
   "source": [
    "## Generate top recommendations"
   ]
  },
  {
   "cell_type": "code",
   "execution_count": 0,
   "metadata": {
    "colab": {},
    "colab_type": "code",
    "id": "uJX6tA-TMwOp"
   },
   "outputs": [],
   "source": [
    "new_user_ratings_ids = map(lambda x: x[1], new_user_ratings) \n",
    "# get just movie IDs\n",
    "# keep just those not on the ID list\n",
    "new_user_unrated_movies_RDD = (complete_movies_data.filter(lambda x: x[0] not in new_user_ratings_ids).map(lambda x: (new_user_ID, x[0])))\n",
    "\n",
    "# Use the input RDD, new_user_unrated_movies_RDD, with new_ratings_model.predictAll() to predict new ratings for the movies\n",
    "new_user_recommend = new_ratings_model.predictAll(new_user_unrated_movies_RDD)"
   ]
  },
  {
   "cell_type": "code",
   "execution_count": 0,
   "metadata": {
    "colab": {
     "base_uri": "https://localhost:8080/",
     "height": 69
    },
    "colab_type": "code",
    "id": "n8pUyoVGM9W3",
    "outputId": "61f5e2a8-1142-49e6-ebd5-4ccf3076f5dd"
   },
   "outputs": [
    {
     "data": {
      "text/plain": [
       "[(150724, ((0.4713894177211366, 'Army Dog (2016)'), 1)),\n",
       " (131572, ((5.679704662552246, '\"Isoroku Yamamoto'), 1)),\n",
       " (2744, ((6.381294336573095, 'Otello (1986)'), 21))]"
      ]
     },
     "execution_count": 41,
     "metadata": {
      "tags": []
     },
     "output_type": "execute_result"
    }
   ],
   "source": [
    "# Transform new_user_recommend into pairs of the form (Movie ID, Predicted Rating)\n",
    "new_user_recommend_rating = new_user_recommend.map(lambda x: (x.product, x.rating))\n",
    "new_user_recommend_rating_title_and_count = \\\n",
    "    new_user_recommend_rating.join(complete_movies_titles).join(movie_rating_counts_RDD)\n",
    "new_user_recommend_rating_title_and_count.take(3)\n",
    "\n",
    "# print 25 movies with the highest predicted ratings. \n",
    "# Join them with the movies RDD to get the titles and ratings count in order to get movies with a minimum number of counts"
   ]
  },
  {
   "cell_type": "code",
   "execution_count": 0,
   "metadata": {
    "colab": {},
    "colab_type": "code",
    "id": "9lvbn9E4NAPA"
   },
   "outputs": [],
   "source": [
    "# Flatten to get (Title, Rating, Ratings Count)\n",
    "new_user_recommend_rating_title_and_count = \\\n",
    "    new_user_recommend_rating_title_and_count.map(lambda r: (r[1][0][1], r[1][0][0], r[1][1]))"
   ]
  },
  {
   "cell_type": "code",
   "execution_count": 0,
   "metadata": {
    "colab": {
     "base_uri": "https://localhost:8080/",
     "height": 468
    },
    "colab_type": "code",
    "id": "fPjuV6uFNC_p",
    "outputId": "17478026-da17-446f-8591-ff97d9f4f847"
   },
   "outputs": [
    {
     "name": "stdout",
     "output_type": "stream",
     "text": [
      "TOP recommended movies (with more than 25 reviews):\n",
      "('Ikiru (1952)', 8.629515306061084, 163)\n",
      "('Blue Planet II (2017)', 8.629401811333164, 36)\n",
      "('\"Great Day in Harlem', 8.576463585007765, 41)\n",
      "('\"Godfather', 8.575356301382742, 6393)\n",
      "('Human Planet (2011)', 8.570723423867193, 32)\n",
      "('\"Lord of the Rings: The Fellowship of the Ring', 8.56647006545224, 6463)\n",
      "('\"Short Film About Killing', 8.562351201720922, 54)\n",
      "('Wuthering Heights (1939)', 8.558613181198462, 29)\n",
      "('\"Lord of the Rings: The Return of the King', 8.55149734365465, 6058)\n",
      "('Band of Brothers (2001)', 8.511805044926056, 104)\n",
      "('\"Godfather: Part II', 8.479937480598675, 4125)\n",
      "('Heart of a Dog (Sobachye serdtse) (1988)', 8.466780498213808, 73)\n",
      "('\"Lord of the Rings: The Two Towers', 8.43858671691385, 5956)\n",
      "(\"Schindler's List (1993)\", 8.42692224937953, 7649)\n",
      "('Planet Earth (2006)', 8.41412108150751, 134)\n",
      "('\"Decalogue', 8.396111633948545, 59)\n",
      "('Harakiri (Seppuku) (1962)', 8.388904305929062, 60)\n",
      "('The Godfather Trilogy: 1972-1990 (1992)', 8.349297992123395, 46)\n",
      "('Wallace & Gromit: The Best of Aardman Animation (1996)', 8.34388337167815, 1029)\n",
      "('Seven Samurai (Shichinin no samurai) (1954)', 8.34364020102505, 1523)\n",
      "('Voices from the List (2004)', 8.33627321380201, 193)\n",
      "('Frozen Planet (2011)', 8.333859258167452, 39)\n",
      "('High and Low (Tengoku to jigoku) (1963)', 8.321678464784444, 74)\n",
      "('Casablanca (1942)', 8.302865819467645, 3348)\n",
      "('Pulp Fiction (1994)', 8.282373702618424, 9706)\n"
     ]
    }
   ],
   "source": [
    "# get highest rated recommendations for the new user, filtering out movies with less than 25 ratings\n",
    "top_movies = new_user_recommend_rating_title_and_count.filter(lambda r: r[2]>=25).takeOrdered(25, key=lambda x: -x[1])\n",
    "\n",
    "print ('TOP recommended movies (with more than 25 reviews):\\n%s' %\n",
    "        '\\n'.join(map(str, top_movies)))"
   ]
  },
  {
   "cell_type": "markdown",
   "metadata": {
    "colab_type": "text",
    "id": "QV6BhqmU36AT"
   },
   "source": [
    "### Generate individual ratings"
   ]
  },
  {
   "cell_type": "code",
   "execution_count": 0,
   "metadata": {
    "colab": {
     "base_uri": "https://localhost:8080/",
     "height": 35
    },
    "colab_type": "code",
    "id": "ryqLcG4cNGg-",
    "outputId": "def15fcc-02e4-4f5b-f0f6-660d5b299cc8"
   },
   "outputs": [
    {
     "data": {
      "text/plain": [
       "[Rating(user=0, product=143464, rating=1.8997978509362683)]"
      ]
     },
     "execution_count": 45,
     "metadata": {
      "tags": []
     },
     "output_type": "execute_result"
    }
   ],
   "source": [
    "my_movie = sc.parallelize([(0, 500)]) # Quiz Show (1994)\n",
    "individual_movie_rating = new_ratings_model.predictAll(new_user_unrated_movies_RDD)\n",
    "individual_movie_rating.take(1)"
   ]
  },
  {
   "cell_type": "code",
   "execution_count": 0,
   "metadata": {
    "colab": {},
    "colab_type": "code",
    "id": "1WYawl3ANMTZ"
   },
   "outputs": [],
   "source": []
  }
 ],
 "metadata": {
  "colab": {
   "collapsed_sections": [],
   "name": "movie_bigdata (1).ipynb",
   "provenance": [],
   "version": "0.3.2"
  },
  "kernelspec": {
   "display_name": "Python 3",
   "language": "python",
   "name": "python3"
  },
  "language_info": {
   "codemirror_mode": {
    "name": "ipython",
    "version": 3
   },
   "file_extension": ".py",
   "mimetype": "text/x-python",
   "name": "python",
   "nbconvert_exporter": "python",
   "pygments_lexer": "ipython3",
   "version": "3.7.3"
  }
 },
 "nbformat": 4,
 "nbformat_minor": 1
}
